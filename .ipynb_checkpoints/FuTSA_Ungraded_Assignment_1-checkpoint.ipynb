{
 "cells": [
  {
   "cell_type": "markdown",
   "metadata": {
    "id": "CxXzaNoXfwUJ"
   },
   "source": [
    "## Forecasting using Time Series Analysis (FuTSA '23)"
   ]
  },
  {
   "cell_type": "markdown",
   "metadata": {
    "id": "nxWE-b8zfwUK"
   },
   "source": [
    "- #####  Welcome to your first assignment. In this assignment, you would be applying the techniques that you would have (hopefully) learnt by now. If not, we suggest you to quickly complete the [suggested material](https://docs.google.com/document/d/1Q6nH_zP2caOInPJDUPzr_RF88-IQEmnyQ0hRBosY9lo/edit?usp=sharing) ASAP and then move to this assignment. \n",
    "- ##### This Assignment is ungraded, and is meant for your practice. Although we would suggest you to make a github repository for this project, where you could document your progress (a good way to learn GitHub flavored Markdown) and push your assignment solutions there.  "
   ]
  },
  {
   "cell_type": "markdown",
   "metadata": {
    "id": "yWGAv8OCfwUL"
   },
   "source": [
    "\n",
    "\n",
    "### 1) Import Pandas\n"
   ]
  },
  {
   "cell_type": "code",
   "execution_count": null,
   "metadata": {
    "id": "r_V1kJdBfwUM"
   },
   "outputs": [],
   "source": []
  },
  {
   "cell_type": "markdown",
   "metadata": {
    "id": "gu0-Jo1MfwUP"
   },
   "source": [
    "### 2) Import the dataset and  Assign it to a variable called users and use the 'user_id' as index\n",
    "\n",
    "#### Import the dataset from this url (https://raw.githubusercontent.com/FuTSA23/time-series-analysis-datasets/main/ungraded_1.user). "
   ]
  },
  {
   "cell_type": "code",
   "execution_count": null,
   "metadata": {
    "id": "6nMOuv9sfwUQ"
   },
   "outputs": [],
   "source": []
  },
  {
   "cell_type": "markdown",
   "metadata": {
    "id": "bn5j2_SyfwUT"
   },
   "source": [
    "### 3) Display the first 25 entries "
   ]
  },
  {
   "cell_type": "code",
   "execution_count": null,
   "metadata": {
    "id": "y_cwbh67fwUT",
    "scrolled": true
   },
   "outputs": [],
   "source": []
  },
  {
   "cell_type": "markdown",
   "metadata": {
    "id": "2y6oxoOBfwUW"
   },
   "source": [
    "### 4) Display the last 10 entries"
   ]
  },
  {
   "cell_type": "code",
   "execution_count": null,
   "metadata": {
    "id": "84_xuhDTfwUW",
    "scrolled": true
   },
   "outputs": [],
   "source": []
  },
  {
   "cell_type": "markdown",
   "metadata": {
    "id": "Wx7r17UDfwUY"
   },
   "source": [
    "### 5) What is the number of observations in the dataset?"
   ]
  },
  {
   "cell_type": "code",
   "execution_count": null,
   "metadata": {
    "id": "d6OITIKHfwUZ"
   },
   "outputs": [],
   "source": []
  },
  {
   "cell_type": "markdown",
   "metadata": {
    "id": "hNq4eoivfwUb"
   },
   "source": [
    "### 6) What is the number of columns in the dataset, also print the name of all the columns?"
   ]
  },
  {
   "cell_type": "code",
   "execution_count": null,
   "metadata": {
    "id": "g5_iU0H9fwUc"
   },
   "outputs": [],
   "source": []
  },
  {
   "cell_type": "markdown",
   "metadata": {
    "id": "bP3u6VGcfwUf"
   },
   "source": [
    "### 7) What is the data type of each column?"
   ]
  },
  {
   "cell_type": "code",
   "execution_count": null,
   "metadata": {
    "id": "japfxWKbfwUf"
   },
   "outputs": [],
   "source": []
  },
  {
   "cell_type": "markdown",
   "metadata": {
    "id": "LIsXSDs-fwUh"
   },
   "source": [
    "### 8) Print only the occupation column "
   ]
  },
  {
   "cell_type": "code",
   "execution_count": null,
   "metadata": {
    "id": "Ulku9hfzfwUi"
   },
   "outputs": [],
   "source": []
  },
  {
   "cell_type": "markdown",
   "metadata": {
    "id": "1ojuqydxfwUk"
   },
   "source": [
    "### 9) How many different occupations are in this dataset?\n"
   ]
  },
  {
   "cell_type": "code",
   "execution_count": null,
   "metadata": {
    "id": "D65-WzYqfwUk"
   },
   "outputs": [],
   "source": []
  },
  {
   "cell_type": "markdown",
   "metadata": {
    "id": "ZP567e47fwUo"
   },
   "source": [
    "### 10) What is the most frequent occupation?"
   ]
  },
  {
   "cell_type": "code",
   "execution_count": null,
   "metadata": {
    "id": "lugu7KprfwUp"
   },
   "outputs": [],
   "source": []
  },
  {
   "cell_type": "markdown",
   "metadata": {
    "id": "FaqznF2AfwUr"
   },
   "source": [
    "### 11) Summarize the DataFrame."
   ]
  },
  {
   "cell_type": "code",
   "execution_count": null,
   "metadata": {
    "id": "jH3rLBmafwUr"
   },
   "outputs": [],
   "source": []
  },
  {
   "cell_type": "markdown",
   "metadata": {
    "id": "niaRW1iyfwUu"
   },
   "source": [
    "### 12) Summarize only the occupation column"
   ]
  },
  {
   "cell_type": "code",
   "execution_count": null,
   "metadata": {
    "id": "mkY5TxdRfwUu"
   },
   "outputs": [],
   "source": []
  },
  {
   "cell_type": "markdown",
   "metadata": {
    "id": "HsTTIOSLfwUw"
   },
   "source": [
    "### 13) What is the mean age of users?"
   ]
  },
  {
   "cell_type": "code",
   "execution_count": null,
   "metadata": {
    "id": "o4T-vE3mfwUx"
   },
   "outputs": [],
   "source": []
  },
  {
   "cell_type": "markdown",
   "metadata": {
    "id": "PVcsEzdFfwUz"
   },
   "source": [
    "### 14) What is the age with least occurrence?"
   ]
  },
  {
   "cell_type": "code",
   "execution_count": null,
   "metadata": {
    "id": "VX5lp_RyfwUz"
   },
   "outputs": [],
   "source": []
  }
 ],
 "metadata": {
  "anaconda-cloud": {},
  "colab": {
   "collapsed_sections": [],
   "name": "Basic_Data_Analysis_Assignment.ipynb",
   "provenance": []
  },
  "kernelspec": {
   "display_name": "Python 3 (ipykernel)",
   "language": "python",
   "name": "python3"
  },
  "language_info": {
   "codemirror_mode": {
    "name": "ipython",
    "version": 3
   },
   "file_extension": ".py",
   "mimetype": "text/x-python",
   "name": "python",
   "nbconvert_exporter": "python",
   "pygments_lexer": "ipython3",
   "version": "3.10.9"
  }
 },
 "nbformat": 4,
 "nbformat_minor": 1
}
